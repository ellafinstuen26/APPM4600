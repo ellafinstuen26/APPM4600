{
 "cells": [
  {
   "cell_type": "code",
   "execution_count": 1,
   "id": "66471574-60f2-4281-a302-6f0f98ef0ff6",
   "metadata": {},
   "outputs": [],
   "source": [
    "import math"
   ]
  },
  {
   "cell_type": "code",
   "execution_count": 24,
   "id": "bf06f528-4fcb-408a-ac7b-a337cde7dc18",
   "metadata": {},
   "outputs": [],
   "source": [
    "x = 0.018183"
   ]
  },
  {
   "cell_type": "code",
   "execution_count": 27,
   "id": "f7c2551d-5050-4334-9767-0597dc75a9d9",
   "metadata": {},
   "outputs": [],
   "source": [
    "y = (x**3-17*x+1)*math.sin(x)+(3-9*x**2)*math.cos(x)"
   ]
  },
  {
   "cell_type": "code",
   "execution_count": 11,
   "id": "24f75994-feb3-4066-8963-a8801c5db83a",
   "metadata": {},
   "outputs": [
    {
     "data": {
      "text/plain": [
       "0.125"
      ]
     },
     "execution_count": 11,
     "metadata": {},
     "output_type": "execute_result"
    }
   ],
   "source": [
    "0.5**3"
   ]
  },
  {
   "cell_type": "code",
   "execution_count": 35,
   "id": "9f42e85c-e423-4080-9d40-d6c41c054919",
   "metadata": {},
   "outputs": [
    {
     "data": {
      "text/plain": [
       "3.0090908316810236"
      ]
     },
     "execution_count": 35,
     "metadata": {},
     "output_type": "execute_result"
    }
   ],
   "source": [
    "y"
   ]
  },
  {
   "cell_type": "code",
   "execution_count": 29,
   "id": "f7b786c0-dec8-43cc-8f45-2cb21c9dc0fd",
   "metadata": {},
   "outputs": [
    {
     "data": {
      "text/plain": [
       "0.06268939232668799"
      ]
     },
     "execution_count": 29,
     "metadata": {},
     "output_type": "execute_result"
    }
   ],
   "source": [
    "z = (y*0.125)/6\n",
    "z"
   ]
  },
  {
   "cell_type": "code",
   "execution_count": 17,
   "id": "a66af5cc-b9e9-481c-b5ec-18df8da975eb",
   "metadata": {},
   "outputs": [],
   "source": [
    "a = 0.5"
   ]
  },
  {
   "cell_type": "code",
   "execution_count": 18,
   "id": "f4727794-cf1a-4166-afcc-11192b5a7682",
   "metadata": {},
   "outputs": [
    {
     "data": {
      "text/plain": [
       "0.05107166307185573"
      ]
     },
     "execution_count": 18,
     "metadata": {},
     "output_type": "execute_result"
    }
   ],
   "source": [
    "f5 = (1+a+a**3)*math.cos(a)\n",
    "p5 = 1 + a - (a**2)/2\n",
    "diff = f5-p5\n",
    "diff"
   ]
  },
  {
   "cell_type": "code",
   "execution_count": 31,
   "id": "855ab2e9-e222-4961-8f95-954a45621008",
   "metadata": {},
   "outputs": [
    {
     "data": {
      "text/plain": [
       "0.01161772925483226"
      ]
     },
     "execution_count": 31,
     "metadata": {},
     "output_type": "execute_result"
    }
   ],
   "source": [
    "z-diff"
   ]
  },
  {
   "cell_type": "code",
   "execution_count": 32,
   "id": "c4561cd2-177a-4c8b-a656-5eec86d5b0ed",
   "metadata": {},
   "outputs": [
    {
     "data": {
      "text/plain": [
       "1.4260716630718557"
      ]
     },
     "execution_count": 32,
     "metadata": {},
     "output_type": "execute_result"
    }
   ],
   "source": [
    "f5"
   ]
  },
  {
   "cell_type": "code",
   "execution_count": 33,
   "id": "ed618bb0-24ab-4c4d-ac48-28e9e73a2622",
   "metadata": {},
   "outputs": [
    {
     "data": {
      "text/plain": [
       "1.375"
      ]
     },
     "execution_count": 33,
     "metadata": {},
     "output_type": "execute_result"
    }
   ],
   "source": [
    "p5"
   ]
  },
  {
   "cell_type": "code",
   "execution_count": 34,
   "id": "73ec621f-8851-4787-bc13-1e815f4e88c0",
   "metadata": {},
   "outputs": [
    {
     "data": {
      "text/plain": [
       "0.05107166307185573"
      ]
     },
     "execution_count": 34,
     "metadata": {},
     "output_type": "execute_result"
    }
   ],
   "source": [
    "f5-p5"
   ]
  },
  {
   "cell_type": "code",
   "execution_count": null,
   "id": "87e45e69-2587-47b9-b87d-c19008f34912",
   "metadata": {},
   "outputs": [],
   "source": []
  }
 ],
 "metadata": {
  "kernelspec": {
   "display_name": "Python 3 (ipykernel)",
   "language": "python",
   "name": "python3"
  },
  "language_info": {
   "codemirror_mode": {
    "name": "ipython",
    "version": 3
   },
   "file_extension": ".py",
   "mimetype": "text/x-python",
   "name": "python",
   "nbconvert_exporter": "python",
   "pygments_lexer": "ipython3",
   "version": "3.12.4"
  }
 },
 "nbformat": 4,
 "nbformat_minor": 5
}
